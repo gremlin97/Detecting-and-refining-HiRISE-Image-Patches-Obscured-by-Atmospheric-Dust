{
  "nbformat": 4,
  "nbformat_minor": 0,
  "metadata": {
    "colab": {
      "provenance": [],
      "mount_file_id": "1RiznFbh5XS3yR8lenl4l0yJvrghXXkGp",
      "authorship_tag": "ABX9TyOlzEzqZ1KT4eRALv+5WMcT",
      "include_colab_link": true
    },
    "kernelspec": {
      "name": "python3",
      "display_name": "Python 3"
    },
    "language_info": {
      "name": "python"
    }
  },
  "cells": [
    {
      "cell_type": "markdown",
      "metadata": {
        "id": "view-in-github",
        "colab_type": "text"
      },
      "source": [
        "<a href=\"https://colab.research.google.com/github/gremlin97/Detecting-and-refining-HiRISE-Image-Patches-Obscured-by-Atmospheric-Dust/blob/main/AtmosphericDustMars_main.ipynb\" target=\"_parent\"><img src=\"https://colab.research.google.com/assets/colab-badge.svg\" alt=\"Open In Colab\"/></a>"
      ]
    },
    {
      "cell_type": "code",
      "execution_count": 1,
      "metadata": {
        "id": "05h2saslVzrD"
      },
      "outputs": [],
      "source": [
        "import numpy as np"
      ]
    },
    {
      "cell_type": "code",
      "source": [
        "%mkdir dataset\n",
        "!cp '/content/drive/MyDrive/rdr_nomap_browse.zip' dataset/\n",
        "%cd dataset"
      ],
      "metadata": {
        "colab": {
          "base_uri": "https://localhost:8080/"
        },
        "id": "f7vg8ZCzdWRn",
        "outputId": "2fc5fafa-384c-4a45-9e1d-aca5f426c5ed"
      },
      "execution_count": 2,
      "outputs": [
        {
          "output_type": "stream",
          "name": "stdout",
          "text": [
            "/content/dataset\n"
          ]
        }
      ]
    },
    {
      "cell_type": "code",
      "source": [
        "!unzip -q rdr_nomap_browse.zip \n",
        "%cd rdr_nomap_browse"
      ],
      "metadata": {
        "colab": {
          "base_uri": "https://localhost:8080/"
        },
        "id": "kmLtHPKybZwA",
        "outputId": "3e4a7098-4de4-49c1-dfab-7a145f5aafed"
      },
      "execution_count": 3,
      "outputs": [
        {
          "output_type": "stream",
          "name": "stdout",
          "text": [
            "/content/dataset/rdr_nomap_browse\n"
          ]
        }
      ]
    },
    {
      "cell_type": "code",
      "source": [
        "import os\n",
        "import random\n",
        "from skimage import io\n",
        "from collections import Counter\n",
        "import matplotlib as plt\n",
        "import pandas as pd\n",
        "\n",
        "path = '/content/dataset/rdr_nomap_browse'\n",
        "data = '/content/dataset/rdr_nomap_browse/manifest.csv'\n",
        "path_dusty = '/content/dataset/rdr_nomap_browse/dusty'\n",
        "path_not_dusty = '/content/dataset/rdr_nomap_browse/not_dusty'\n",
        "\n",
        "df = pd.read_csv(data)\n",
        "os.listdir(path_dusty)\n",
        "path"
      ],
      "metadata": {
        "colab": {
          "base_uri": "https://localhost:8080/",
          "height": 35
        },
        "id": "j6pvb9ibdUIO",
        "outputId": "0e0269c7-baad-4ffb-bfbf-c59291672325"
      },
      "execution_count": 4,
      "outputs": [
        {
          "output_type": "execute_result",
          "data": {
            "text/plain": [
              "'/content/dataset/rdr_nomap_browse'"
            ],
            "application/vnd.google.colaboratory.intrinsic+json": {
              "type": "string"
            }
          },
          "metadata": {},
          "execution_count": 4
        }
      ]
    },
    {
      "cell_type": "code",
      "source": [
        "df.sample(10)"
      ],
      "metadata": {
        "colab": {
          "base_uri": "https://localhost:8080/",
          "height": 363
        },
        "id": "GyAC7lQxPfVZ",
        "outputId": "262fb22d-9107-4560-8154-b64679045f2f"
      },
      "execution_count": 5,
      "outputs": [
        {
          "output_type": "execute_result",
          "data": {
            "text/plain": [
              "         #dataset                                   id      label\n",
              "2864        train   008670_PSP_004390_1035_r3967_c1946      dusty\n",
              "12622  validation    002662_ESP_013968_1020_r281_c1843  not_dusty\n",
              "16461        test   009773_PSP_004336_1035_r3330_c1126      dusty\n",
              "4704        train  002058_PSP_004424_1395_r16073_c1229      dusty\n",
              "11507  validation    001594_PSP_004509_1890_r1505_c410      dusty\n",
              "10715  validation   007553_PSP_004391_0990_r1549_c1638      dusty\n",
              "6110        train     009165_ESP_012289_1840_r66_c1434  not_dusty\n",
              "18464        test     001607_PSP_010338_2240_r282_c410  not_dusty\n",
              "13084  validation   009950_PSP_001777_1650_r3975_c1946  not_dusty\n",
              "2829        train    006630_PSP_004326_1525_r3969_c819      dusty"
            ],
            "text/html": [
              "\n",
              "  <div id=\"df-8e7a3156-2bff-4c64-8e6a-a646d5bba63f\">\n",
              "    <div class=\"colab-df-container\">\n",
              "      <div>\n",
              "<style scoped>\n",
              "    .dataframe tbody tr th:only-of-type {\n",
              "        vertical-align: middle;\n",
              "    }\n",
              "\n",
              "    .dataframe tbody tr th {\n",
              "        vertical-align: top;\n",
              "    }\n",
              "\n",
              "    .dataframe thead th {\n",
              "        text-align: right;\n",
              "    }\n",
              "</style>\n",
              "<table border=\"1\" class=\"dataframe\">\n",
              "  <thead>\n",
              "    <tr style=\"text-align: right;\">\n",
              "      <th></th>\n",
              "      <th>#dataset</th>\n",
              "      <th>id</th>\n",
              "      <th>label</th>\n",
              "    </tr>\n",
              "  </thead>\n",
              "  <tbody>\n",
              "    <tr>\n",
              "      <th>2864</th>\n",
              "      <td>train</td>\n",
              "      <td>008670_PSP_004390_1035_r3967_c1946</td>\n",
              "      <td>dusty</td>\n",
              "    </tr>\n",
              "    <tr>\n",
              "      <th>12622</th>\n",
              "      <td>validation</td>\n",
              "      <td>002662_ESP_013968_1020_r281_c1843</td>\n",
              "      <td>not_dusty</td>\n",
              "    </tr>\n",
              "    <tr>\n",
              "      <th>16461</th>\n",
              "      <td>test</td>\n",
              "      <td>009773_PSP_004336_1035_r3330_c1126</td>\n",
              "      <td>dusty</td>\n",
              "    </tr>\n",
              "    <tr>\n",
              "      <th>4704</th>\n",
              "      <td>train</td>\n",
              "      <td>002058_PSP_004424_1395_r16073_c1229</td>\n",
              "      <td>dusty</td>\n",
              "    </tr>\n",
              "    <tr>\n",
              "      <th>11507</th>\n",
              "      <td>validation</td>\n",
              "      <td>001594_PSP_004509_1890_r1505_c410</td>\n",
              "      <td>dusty</td>\n",
              "    </tr>\n",
              "    <tr>\n",
              "      <th>10715</th>\n",
              "      <td>validation</td>\n",
              "      <td>007553_PSP_004391_0990_r1549_c1638</td>\n",
              "      <td>dusty</td>\n",
              "    </tr>\n",
              "    <tr>\n",
              "      <th>6110</th>\n",
              "      <td>train</td>\n",
              "      <td>009165_ESP_012289_1840_r66_c1434</td>\n",
              "      <td>not_dusty</td>\n",
              "    </tr>\n",
              "    <tr>\n",
              "      <th>18464</th>\n",
              "      <td>test</td>\n",
              "      <td>001607_PSP_010338_2240_r282_c410</td>\n",
              "      <td>not_dusty</td>\n",
              "    </tr>\n",
              "    <tr>\n",
              "      <th>13084</th>\n",
              "      <td>validation</td>\n",
              "      <td>009950_PSP_001777_1650_r3975_c1946</td>\n",
              "      <td>not_dusty</td>\n",
              "    </tr>\n",
              "    <tr>\n",
              "      <th>2829</th>\n",
              "      <td>train</td>\n",
              "      <td>006630_PSP_004326_1525_r3969_c819</td>\n",
              "      <td>dusty</td>\n",
              "    </tr>\n",
              "  </tbody>\n",
              "</table>\n",
              "</div>\n",
              "      <button class=\"colab-df-convert\" onclick=\"convertToInteractive('df-8e7a3156-2bff-4c64-8e6a-a646d5bba63f')\"\n",
              "              title=\"Convert this dataframe to an interactive table.\"\n",
              "              style=\"display:none;\">\n",
              "        \n",
              "  <svg xmlns=\"http://www.w3.org/2000/svg\" height=\"24px\"viewBox=\"0 0 24 24\"\n",
              "       width=\"24px\">\n",
              "    <path d=\"M0 0h24v24H0V0z\" fill=\"none\"/>\n",
              "    <path d=\"M18.56 5.44l.94 2.06.94-2.06 2.06-.94-2.06-.94-.94-2.06-.94 2.06-2.06.94zm-11 1L8.5 8.5l.94-2.06 2.06-.94-2.06-.94L8.5 2.5l-.94 2.06-2.06.94zm10 10l.94 2.06.94-2.06 2.06-.94-2.06-.94-.94-2.06-.94 2.06-2.06.94z\"/><path d=\"M17.41 7.96l-1.37-1.37c-.4-.4-.92-.59-1.43-.59-.52 0-1.04.2-1.43.59L10.3 9.45l-7.72 7.72c-.78.78-.78 2.05 0 2.83L4 21.41c.39.39.9.59 1.41.59.51 0 1.02-.2 1.41-.59l7.78-7.78 2.81-2.81c.8-.78.8-2.07 0-2.86zM5.41 20L4 18.59l7.72-7.72 1.47 1.35L5.41 20z\"/>\n",
              "  </svg>\n",
              "      </button>\n",
              "      \n",
              "  <style>\n",
              "    .colab-df-container {\n",
              "      display:flex;\n",
              "      flex-wrap:wrap;\n",
              "      gap: 12px;\n",
              "    }\n",
              "\n",
              "    .colab-df-convert {\n",
              "      background-color: #E8F0FE;\n",
              "      border: none;\n",
              "      border-radius: 50%;\n",
              "      cursor: pointer;\n",
              "      display: none;\n",
              "      fill: #1967D2;\n",
              "      height: 32px;\n",
              "      padding: 0 0 0 0;\n",
              "      width: 32px;\n",
              "    }\n",
              "\n",
              "    .colab-df-convert:hover {\n",
              "      background-color: #E2EBFA;\n",
              "      box-shadow: 0px 1px 2px rgba(60, 64, 67, 0.3), 0px 1px 3px 1px rgba(60, 64, 67, 0.15);\n",
              "      fill: #174EA6;\n",
              "    }\n",
              "\n",
              "    [theme=dark] .colab-df-convert {\n",
              "      background-color: #3B4455;\n",
              "      fill: #D2E3FC;\n",
              "    }\n",
              "\n",
              "    [theme=dark] .colab-df-convert:hover {\n",
              "      background-color: #434B5C;\n",
              "      box-shadow: 0px 1px 3px 1px rgba(0, 0, 0, 0.15);\n",
              "      filter: drop-shadow(0px 1px 2px rgba(0, 0, 0, 0.3));\n",
              "      fill: #FFFFFF;\n",
              "    }\n",
              "  </style>\n",
              "\n",
              "      <script>\n",
              "        const buttonEl =\n",
              "          document.querySelector('#df-8e7a3156-2bff-4c64-8e6a-a646d5bba63f button.colab-df-convert');\n",
              "        buttonEl.style.display =\n",
              "          google.colab.kernel.accessAllowed ? 'block' : 'none';\n",
              "\n",
              "        async function convertToInteractive(key) {\n",
              "          const element = document.querySelector('#df-8e7a3156-2bff-4c64-8e6a-a646d5bba63f');\n",
              "          const dataTable =\n",
              "            await google.colab.kernel.invokeFunction('convertToInteractive',\n",
              "                                                     [key], {});\n",
              "          if (!dataTable) return;\n",
              "\n",
              "          const docLinkHtml = 'Like what you see? Visit the ' +\n",
              "            '<a target=\"_blank\" href=https://colab.research.google.com/notebooks/data_table.ipynb>data table notebook</a>'\n",
              "            + ' to learn more about interactive tables.';\n",
              "          element.innerHTML = '';\n",
              "          dataTable['output_type'] = 'display_data';\n",
              "          await google.colab.output.renderOutput(dataTable, element);\n",
              "          const docLink = document.createElement('div');\n",
              "          docLink.innerHTML = docLinkHtml;\n",
              "          element.appendChild(docLink);\n",
              "        }\n",
              "      </script>\n",
              "    </div>\n",
              "  </div>\n",
              "  "
            ]
          },
          "metadata": {},
          "execution_count": 5
        }
      ]
    },
    {
      "cell_type": "code",
      "source": [
        "Xtrain_list = []\n",
        "Xval_list = []\n",
        "Xtest_list = []\n",
        "Ytrain_list = []\n",
        "Yval_list = []\n",
        "Ytest_list = []\n",
        "trainMap = {}\n",
        "valMap = {}\n",
        "testMap = {}\n",
        "\n",
        "for i in df.index:\n",
        "  if df['#dataset'][i] == 'train':\n",
        "    Xtrain_list.append({'id':df['id'][i]})\n",
        "    Ytrain_list.append({'label':df['label'][i]})\n",
        "    trainMap[df['id'][i]] = df['label'][i]\n",
        "\n",
        "  if df['#dataset'][i] == 'validation':\n",
        "    Xval_list.append({'id':df['id'][i]})\n",
        "    Yval_list.append({'label':df['label'][i]})\n",
        "    valMap[df['id'][i]] = df['label'][i]\n",
        "\n",
        "  if df['#dataset'][i] == 'test':\n",
        "     Xtest_list.append({'id':df['id'][i]})\n",
        "     Ytest_list.append({'label':df['label'][i]})\n",
        "     testMap[df['id'][i]] = df['label'][i]"
      ],
      "metadata": {
        "id": "4xyr3fnfPKD0"
      },
      "execution_count": 6,
      "outputs": []
    },
    {
      "cell_type": "code",
      "source": [
        "from skimage import io\n",
        "\n",
        "Xtrain = []\n",
        "Ytrain = []\n",
        "Xval = []\n",
        "Yval = []\n",
        "Xtest = []\n",
        "Ytest = []\n",
        "\n",
        "curr_dir = os.getcwd()\n",
        "\n",
        "for x in Xtrain_list:\n",
        "  Xtrain.append(io.imread(curr_dir + '/' + trainMap[x['id']] + '/' + x['id'] + '.png'))\n",
        "  Ytrain.append(trainMap[x['id']])\n",
        "\n",
        "for x in Xval_list:\n",
        "  Xval.append(io.imread(curr_dir + '/' + valMap[x['id']] + '/' + x['id'] + '.png'))\n",
        "  Yval.append(valMap[x['id']])\n",
        "\n",
        "for x in Xtest_list:\n",
        "  Xtest.append(io.imread(curr_dir + '/' + testMap[x['id']] + '/' + x['id'] + '.png'))\n",
        "  Ytest.append(testMap[x['id']])"
      ],
      "metadata": {
        "id": "fYgUyFNDS6L4"
      },
      "execution_count": 7,
      "outputs": []
    },
    {
      "cell_type": "code",
      "source": [
        "from collections import Counter\n",
        "print(Counter(Ytrain))\n",
        "print(Counter(Yval))\n",
        "print(Counter(Ytest))\n",
        "print(len(Xtrain))\n",
        "print(len(Xval))\n",
        "print(len(Xtest))"
      ],
      "metadata": {
        "colab": {
          "base_uri": "https://localhost:8080/"
        },
        "id": "8WPRe87Feiu3",
        "outputId": "de14d1ee-8906-4235-da5d-0eda90147b52"
      },
      "execution_count": 8,
      "outputs": [
        {
          "output_type": "stream",
          "name": "stdout",
          "text": [
            "Counter({'not_dusty': 4961, 'dusty': 4856})\n",
            "Counter({'not_dusty': 2485, 'dusty': 2484})\n",
            "Counter({'dusty': 2660, 'not_dusty': 2554})\n",
            "9817\n",
            "4969\n",
            "5214\n"
          ]
        }
      ]
    },
    {
      "cell_type": "code",
      "source": [
        "io.imshow(Xtrain[9100])\n",
        "print(Ytrain[9100])"
      ],
      "metadata": {
        "colab": {
          "base_uri": "https://localhost:8080/",
          "height": 314
        },
        "id": "akTsmGnNerHt",
        "outputId": "0c9c02f1-b8ef-40f9-cabc-131cbeb6cedf"
      },
      "execution_count": 9,
      "outputs": [
        {
          "output_type": "stream",
          "name": "stdout",
          "text": [
            "not_dusty\n"
          ]
        },
        {
          "output_type": "display_data",
          "data": {
            "text/plain": [
              "<Figure size 432x288 with 1 Axes>"
            ],
            "image/png": "[encoded data removed]"
          },
          "metadata": {
            "needs_background": "light"
          }
        }
      ]
    },
    {
      "cell_type": "code",
      "source": [
        "io.imshow(Xtrain[1100])\n",
        "print(Ytrain[1100])"
      ],
      "metadata": {
        "colab": {
          "base_uri": "https://localhost:8080/",
          "height": 314
        },
        "id": "iBa3Mq9Cginw",
        "outputId": "255e3252-3801-4eb3-87ea-a0ab1332fb96"
      },
      "execution_count": 10,
      "outputs": [
        {
          "output_type": "stream",
          "name": "stdout",
          "text": [
            "dusty\n"
          ]
        },
        {
          "output_type": "display_data",
          "data": {
            "text/plain": [
              "<Figure size 432x288 with 1 Axes>"
            ],
            "image/png": "[encoded data removed]"
          },
          "metadata": {
            "needs_background": "light"
          }
        }
      ]
    },
    {
      "cell_type": "code",
      "source": [
        "print(np.max(Xtrain)-np.min(Xtrain), np.max(Xtest)-np.min(Xtest), np.max(Xval)-np.min(Xval))"
      ],
      "metadata": {
        "colab": {
          "base_uri": "https://localhost:8080/"
        },
        "id": "UYxZeU2ghG0k",
        "outputId": "5d02d786-6c4e-4c98-b2c1-e1526166dc2e"
      },
      "execution_count": 11,
      "outputs": [
        {
          "output_type": "stream",
          "name": "stdout",
          "text": [
            "255 255 255\n"
          ]
        }
      ]
    },
    {
      "cell_type": "code",
      "source": [
        "random.seed(32)\n",
        "rand_trainzip = list(zip(Xtrain,Ytrain))\n",
        "rand_valzip = list(zip(Xval,Yval))\n",
        "rand_testzip = list(zip(Xtest,Ytest))\n",
        "random.shuffle(rand_trainzip)\n",
        "random.shuffle(rand_valzip)\n",
        "random.shuffle(rand_testzip)\n",
        "Xtrain, Ytrain = zip(*rand_trainzip)\n",
        "Xval, Yval = zip(*rand_valzip)\n",
        "Xtest, Ytest = zip(*rand_testzip)"
      ],
      "metadata": {
        "id": "r14SD3wwi_9i"
      },
      "execution_count": 12,
      "outputs": []
    },
    {
      "cell_type": "code",
      "source": [
        "norm = np.max(Xtrain)-np.min(Xtrain)\n",
        "for x in Xtrain:\n",
        "  x = x/norm\n",
        "\n",
        "for x in Xtest:\n",
        "  x = x/norm\n",
        "\n",
        "for x in Xval:\n",
        "  x = x/norm"
      ],
      "metadata": {
        "id": "xLLqkTCYgt0E"
      },
      "execution_count": 13,
      "outputs": []
    },
    {
      "cell_type": "code",
      "source": [
        "io.imshow(Xtrain[926])\n",
        "print(Ytrain[926])"
      ],
      "metadata": {
        "colab": {
          "base_uri": "https://localhost:8080/",
          "height": 314
        },
        "id": "iqLTsH3jh8Uc",
        "outputId": "33e05c8f-5a8c-49ac-b901-619ab2be2cf2"
      },
      "execution_count": 14,
      "outputs": [
        {
          "output_type": "stream",
          "name": "stdout",
          "text": [
            "dusty\n"
          ]
        },
        {
          "output_type": "display_data",
          "data": {
            "text/plain": [
              "<Figure size 432x288 with 1 Axes>"
            ],
            "image/png": "[encoded data removed]"
          },
          "metadata": {
            "needs_background": "light"
          }
        }
      ]
    },
    {
      "cell_type": "code",
      "source": [
        "io.imshow(Xtrain[928])\n",
        "print(Ytrain[928])"
      ],
      "metadata": {
        "colab": {
          "base_uri": "https://localhost:8080/",
          "height": 314
        },
        "id": "38skwi5qk-Ho",
        "outputId": "1564d40f-51e0-4912-a620-d9a1f2738ab2"
      },
      "execution_count": 15,
      "outputs": [
        {
          "output_type": "stream",
          "name": "stdout",
          "text": [
            "not_dusty\n"
          ]
        },
        {
          "output_type": "display_data",
          "data": {
            "text/plain": [
              "<Figure size 432x288 with 1 Axes>"
            ],
            "image/png": "[encoded data removed]"
          },
          "metadata": {
            "needs_background": "light"
          }
        }
      ]
    },
    {
      "cell_type": "code",
      "source": [
        "X_train = np.array(Xtrain)\n",
        "Y_train = np.array(Ytrain)\n",
        "X_val = np.array(Xval)\n",
        "Y_val = np.array(Yval)\n",
        "X_test = np.array(Xtest)\n",
        "Y_test = np.array(Ytest)"
      ],
      "metadata": {
        "id": "R7JPTzRPnMvj"
      },
      "execution_count": 16,
      "outputs": []
    },
    {
      "cell_type": "code",
      "source": [
        "TX_train = X_train \n",
        "TY_train = Y_train \n",
        "TX_val = X_val\n",
        "TY_val = Y_val \n",
        "TX_test = X_test\n",
        "TY_test = Y_test "
      ],
      "metadata": {
        "id": "d-dtRJ8vw1TO"
      },
      "execution_count": 17,
      "outputs": []
    },
    {
      "cell_type": "code",
      "source": [
        "TX_train.shape"
      ],
      "metadata": {
        "colab": {
          "base_uri": "https://localhost:8080/"
        },
        "id": "dBkPk8us-VcF",
        "outputId": "ae078d78-be39-49fc-f309-be76ef9a1b60"
      },
      "execution_count": 18,
      "outputs": [
        {
          "output_type": "execute_result",
          "data": {
            "text/plain": [
              "(9817, 100, 100)"
            ]
          },
          "metadata": {},
          "execution_count": 18
        }
      ]
    },
    {
      "cell_type": "code",
      "source": [
        "from skimage.transform import resize\n",
        "\n",
        "Xtrain_tf = []\n",
        "Xtest_tf = []\n",
        "Xval_tf = []\n",
        "Xtrain_tf_rn = []\n",
        "Xtest_tf_rn = []\n",
        "Xval_tf_rn = []\n",
        "\n",
        "\n",
        "for i in range(len(TX_train)):\n",
        "  val = np.expand_dims(TX_train[i], axis=2)\n",
        "  Xtrain_tf.append(resize(val, (64, 64, 1)))\n",
        "  #Xtrain_tf_rn.append(resize(val, (224, 224, 1)))\n",
        "\n",
        "for i in range(len(TX_test)):\n",
        "  val = np.expand_dims(TX_test[i], axis=2)\n",
        "  Xtest_tf.append(resize(val, (64, 64, 1)))\n",
        "  #Xtest_tf_rn.append(resize(val, (224, 224, 1)))\n",
        "\n",
        "for i in range(len(TX_val)):\n",
        "  val = np.expand_dims(TX_val[i], axis=2)\n",
        "  Xval_tf.append(resize(val, (64, 64, 1)))\n",
        "  #Xval_tf_rn.append(resize(val, (224, 224, 1)))\n",
        "\n",
        "Xtrain_tf = np.asarray(Xtrain_tf)\n",
        "Xtest_tf = np.asarray(Xtest_tf)\n",
        "Xval_tf = np.asarray(Xval_tf)"
      ],
      "metadata": {
        "id": "nETf62iYAEIt"
      },
      "execution_count": 19,
      "outputs": []
    },
    {
      "cell_type": "code",
      "source": [
        "# from skimage.transform import resize\n",
        "\n",
        "# Xtrain_tf = []\n",
        "# Xtest_tf = []\n",
        "# Xval_tf = []\n",
        "# Xtrain_tf_rn = []\n",
        "# Xtest_tf_rn = []\n",
        "# Xval_tf_rn = []\n",
        "\n",
        "\n",
        "# for i in range(len(TX_train)):\n",
        "#   val = np.expand_dims(TX_train[i], axis=2)\n",
        "#   #Xtrain_tf.append(resize(val, (64, 64, 1)))\n",
        "#   Xtrain_tf_rn.append(resize(val, (224, 224, 1)))\n",
        "\n",
        "# for i in range(len(TX_test)):\n",
        "#   val = np.expand_dims(TX_test[i], axis=2)\n",
        "#   #Xtest_tf.append(resize(val, (64, 64, 1)))\n",
        "#   Xtest_tf_rn.append(resize(val, (224, 224, 1)))\n",
        "\n",
        "# for i in range(len(TX_val)):\n",
        "#   val = np.expand_dims(TX_val[i], axis=2)\n",
        "#   #Xval_tf.append(resize(val, (64, 64, 1)))\n",
        "#   Xval_tf_rn.append(resize(val, (224, 224, 1)))\n",
        "\n",
        "# Xtrain_tf_rn = np.asarray(Xtrain_tf_rn)\n",
        "# Xtrain_tf_rn = np.repeat(Xtrain_tf_rn[:, :, np.newaxis], 3, axis=2)\n",
        "# Xtest_tf_rn = np.asarray(Xtest_tf_rn)\n",
        "# Xtest_tf_rn = np.repeat(Xtest_tf_rn[:, :, np.newaxis], 3, axis=2)\n",
        "# Xval_tf_rn = np.asarray(Xval_tf_rn)\n",
        "# Xval_tf_rn = np.repeat(Xval_tf_rn[:, :, np.newaxis], 3, axis=2)"
      ],
      "metadata": {
        "id": "IbC-zZcps1ln"
      },
      "execution_count": 20,
      "outputs": []
    },
    {
      "cell_type": "code",
      "source": [
        "# del TY_test, TY_train, TY_val, X_test, X_train, X_val\n",
        "# del TX_test, TX_train, TX_val\n",
        "# Xtrain_tf_rn = np.asarray(Xtrain_tf_rn)\n",
        "# Xtrain_tf_rn = np.repeat(Xtrain_tf_rn[:, :, np.newaxis], 3, axis=2)\n",
        "# Xtest_tf_rn = np.asarray(Xtest_tf_rn)\n",
        "# Xtest_tf_rn = np.repeat(Xtest_tf_rn[:, :, np.newaxis], 3, axis=2)\n",
        "# Xval_tf_rn = np.asarray(Xval_tf_rn)\n",
        "# Xval_tf_rn = np.repeat(Xval_tf_rn[:, :, np.newaxis], 3, axis=2)"
      ],
      "metadata": {
        "id": "PeyzjwGore6T"
      },
      "execution_count": 21,
      "outputs": []
    },
    {
      "cell_type": "code",
      "source": [
        "# Xtrain_tf_rn.shape"
      ],
      "metadata": {
        "id": "bXm-HRQ8mRqj"
      },
      "execution_count": 22,
      "outputs": []
    },
    {
      "cell_type": "code",
      "source": [
        "Xtrain_tf.shape, Xtest_tf.shape, Xval_tf.shape"
      ],
      "metadata": {
        "colab": {
          "base_uri": "https://localhost:8080/"
        },
        "id": "rGgyVROMA0-K",
        "outputId": "668dc4f2-9af6-45c2-f323-9ab49d7edca0"
      },
      "execution_count": 23,
      "outputs": [
        {
          "output_type": "execute_result",
          "data": {
            "text/plain": [
              "((9817, 64, 64, 1), (5214, 64, 64, 1), (4969, 64, 64, 1))"
            ]
          },
          "metadata": {},
          "execution_count": 23
        }
      ]
    },
    {
      "cell_type": "code",
      "source": [
        "X_train = X_train.reshape(9817, 100*100)\n",
        "X_val = X_val.reshape(4969, 100*100)\n",
        "X_test = X_test.reshape(5214, 100*100)"
      ],
      "metadata": {
        "id": "SBR9qQbfn-XD"
      },
      "execution_count": 24,
      "outputs": []
    },
    {
      "cell_type": "code",
      "source": [
        "# Dimensionality reduction using PCA. We initially use PCA to with 10 components\n",
        "from sklearn.decomposition import PCA\n",
        "n_components = 10\n",
        "# Reducing our train data using PCA\n",
        "pca = PCA(n_components=n_components,random_state=32).fit(X_train)"
      ],
      "metadata": {
        "id": "xROAXFtRmjgV"
      },
      "execution_count": 25,
      "outputs": []
    },
    {
      "cell_type": "code",
      "source": [
        "s = 0\n",
        "l = []\n",
        "\n",
        "for i in range (n_components):\n",
        "  s+=pca.explained_variance_ratio_[i]\n",
        "  l.append(s)\n",
        "\n",
        "from matplotlib import pyplot as plt\n",
        "plt.figure(figsize=(9,6.5))\n",
        "x_data = list(range(1,11))\n",
        "y_data = l\n",
        "plt.plot(x_data, y_data)\n",
        "plt.xlabel(\"Num of Principal Components\")\n",
        "plt.ylabel(\"Fraction of Total Variance Explained\")"
      ],
      "metadata": {
        "colab": {
          "base_uri": "https://localhost:8080/",
          "height": 432
        },
        "id": "ssHV-gZIm8-M",
        "outputId": "ad32a449-b983-44f4-d827-1a6fa80f0578"
      },
      "execution_count": 26,
      "outputs": [
        {
          "output_type": "execute_result",
          "data": {
            "text/plain": [
              "Text(0, 0.5, 'Fraction of Total Variance Explained')"
            ]
          },
          "metadata": {},
          "execution_count": 26
        },
        {
          "output_type": "display_data",
          "data": {
            "text/plain": [
              "<Figure size 648x468 with 1 Axes>"
            ],
            "image/png": "[encoded data removed]"
          },
          "metadata": {
            "needs_background": "light"
          }
        }
      ]
    },
    {
      "cell_type": "code",
      "source": [
        "n_components = 3\n",
        "# Reducing our train data using PCA\n",
        "pca = PCA(n_components=n_components,random_state=32).fit(X_train)"
      ],
      "metadata": {
        "id": "AWJtueeupz6A"
      },
      "execution_count": 27,
      "outputs": []
    },
    {
      "cell_type": "code",
      "source": [
        "X_train_pca = pca.transform(X_train)"
      ],
      "metadata": {
        "id": "EGv6XS7UqCir"
      },
      "execution_count": 28,
      "outputs": []
    },
    {
      "cell_type": "code",
      "source": [
        "X_val_pca = pca.transform(X_val)\n",
        "X_test_pca = pca.transform(X_test)"
      ],
      "metadata": {
        "id": "ZPedWsjJqqIR"
      },
      "execution_count": 29,
      "outputs": []
    },
    {
      "cell_type": "code",
      "source": [
        "X_train_pca.shape, len(X_train_pca)"
      ],
      "metadata": {
        "colab": {
          "base_uri": "https://localhost:8080/"
        },
        "id": "ry9Hqh1IqJcN",
        "outputId": "0d7a4272-8e6f-4b35-fdff-f8036bef116e"
      },
      "execution_count": 30,
      "outputs": [
        {
          "output_type": "execute_result",
          "data": {
            "text/plain": [
              "((9817, 3), 9817)"
            ]
          },
          "metadata": {},
          "execution_count": 30
        }
      ]
    },
    {
      "cell_type": "code",
      "source": [
        "for i in range(len(Y_train)):\n",
        "  if Y_train[i] == 'dusty':\n",
        "    Y_train[i] = 1\n",
        "  else:\n",
        "    Y_train[i] = 0"
      ],
      "metadata": {
        "id": "XFWLM0uc89rv"
      },
      "execution_count": 31,
      "outputs": []
    },
    {
      "cell_type": "code",
      "source": [
        "for i in range(len(Y_test)):\n",
        "  if Y_test[i] == 'dusty':\n",
        "    Y_test[i] = 1\n",
        "  else:\n",
        "    Y_test[i] = 0"
      ],
      "metadata": {
        "id": "OdH-OCNB-Vgr"
      },
      "execution_count": 32,
      "outputs": []
    },
    {
      "cell_type": "code",
      "source": [
        "for i in range(len(Y_val)):\n",
        "  if Y_val[i] == 'dusty':\n",
        "    Y_val[i] = 1\n",
        "  else:\n",
        "    Y_val[i] = 0"
      ],
      "metadata": {
        "id": "NrrUseTv-mHJ"
      },
      "execution_count": 33,
      "outputs": []
    },
    {
      "cell_type": "code",
      "source": [
        "type(Y_val[0])"
      ],
      "metadata": {
        "colab": {
          "base_uri": "https://localhost:8080/"
        },
        "id": "E9XY2_eBJ_8_",
        "outputId": "5ba650bf-d50f-423c-85ab-edda53e51a9d"
      },
      "execution_count": 34,
      "outputs": [
        {
          "output_type": "execute_result",
          "data": {
            "text/plain": [
              "numpy.str_"
            ]
          },
          "metadata": {},
          "execution_count": 34
        }
      ]
    },
    {
      "cell_type": "code",
      "source": [
        "Y_train = Y_train.astype(np.float64)\n",
        "Y_test = Y_test.astype(np.float64)\n",
        "Y_val = Y_val.astype(np.float64)"
      ],
      "metadata": {
        "id": "Hj-gUu3TLNuG"
      },
      "execution_count": 35,
      "outputs": []
    },
    {
      "cell_type": "code",
      "source": [
        "from sklearn.svm import SVC\n",
        "from sklearn.metrics import accuracy_score\n",
        "\n",
        "# YOUR CODE HERE\n",
        "C = 10000\n",
        "svc = SVC(kernel='rbf', C=C)\n",
        "svc.fit(X_train_pca, Y_train)"
      ],
      "metadata": {
        "colab": {
          "base_uri": "https://localhost:8080/"
        },
        "id": "hm3MwnuUun7t",
        "outputId": "0d473623-e071-4051-fc13-72b5bc11d431"
      },
      "execution_count": 36,
      "outputs": [
        {
          "output_type": "execute_result",
          "data": {
            "text/plain": [
              "SVC(C=10000)"
            ]
          },
          "metadata": {},
          "execution_count": 36
        }
      ]
    },
    {
      "cell_type": "code",
      "source": [
        "# YOUR CODE HERE\n",
        "y_pred = svc.predict(X_test_pca)"
      ],
      "metadata": {
        "id": "99uNBB_Txe-N"
      },
      "execution_count": 37,
      "outputs": []
    },
    {
      "cell_type": "code",
      "source": [
        "print(\"Accuracy is:\",accuracy_score(Y_test, y_pred))"
      ],
      "metadata": {
        "colab": {
          "base_uri": "https://localhost:8080/"
        },
        "id": "GnxzIVaFyFPP",
        "outputId": "eb645a94-7bb5-4314-da14-ea66056c3726"
      },
      "execution_count": 38,
      "outputs": [
        {
          "output_type": "stream",
          "name": "stdout",
          "text": [
            "Accuracy is: 0.6196777905638665\n"
          ]
        }
      ]
    },
    {
      "cell_type": "code",
      "source": [
        "target_names = ['non_dusty','dusty']"
      ],
      "metadata": {
        "id": "GSTiC4y5yqDb"
      },
      "execution_count": 39,
      "outputs": []
    },
    {
      "cell_type": "code",
      "source": [
        "from sklearn.metrics import classification_report\n",
        "print(classification_report(Y_test, y_pred, target_names=target_names))"
      ],
      "metadata": {
        "colab": {
          "base_uri": "https://localhost:8080/"
        },
        "id": "RBLvYJ0sxwh3",
        "outputId": "cf5ca1e5-20dd-4f92-bc19-90bce0aae59a"
      },
      "execution_count": 40,
      "outputs": [
        {
          "output_type": "stream",
          "name": "stdout",
          "text": [
            "              precision    recall  f1-score   support\n",
            "\n",
            "   non_dusty       0.60      0.68      0.64      2554\n",
            "       dusty       0.65      0.56      0.60      2660\n",
            "\n",
            "    accuracy                           0.62      5214\n",
            "   macro avg       0.62      0.62      0.62      5214\n",
            "weighted avg       0.62      0.62      0.62      5214\n",
            "\n"
          ]
        }
      ]
    },
    {
      "cell_type": "code",
      "source": [
        "from sklearn.metrics import ConfusionMatrixDisplay\n",
        "ConfusionMatrixDisplay.from_estimator(svc, X_test_pca, Y_test, display_labels=target_names, xticks_rotation=\"vertical\")\n",
        "plt.tight_layout()\n",
        "plt.show()"
      ],
      "metadata": {
        "colab": {
          "base_uri": "https://localhost:8080/",
          "height": 297
        },
        "id": "BDs8bMbWyvb2",
        "outputId": "23a05206-d8c1-4074-eb85-e50d12f3e9f2"
      },
      "execution_count": 41,
      "outputs": [
        {
          "output_type": "display_data",
          "data": {
            "text/plain": [
              "<Figure size 432x288 with 2 Axes>"
            ],
            "image/png": "[encoded data removed]"
          },
          "metadata": {
            "needs_background": "light"
          }
        }
      ]
    },
    {
      "cell_type": "code",
      "source": [
        "Y_train"
      ],
      "metadata": {
        "colab": {
          "base_uri": "https://localhost:8080/"
        },
        "id": "0MOIaZUsIdAm",
        "outputId": "7000a4af-ec02-45d8-a0cc-d7121f0bc7a7"
      },
      "execution_count": 42,
      "outputs": [
        {
          "output_type": "execute_result",
          "data": {
            "text/plain": [
              "array([1., 0., 0., ..., 1., 1., 1.])"
            ]
          },
          "metadata": {},
          "execution_count": 42
        }
      ]
    },
    {
      "cell_type": "code",
      "source": [
        "import tensorflow as tf\n",
        "from tensorflow.keras import datasets, layers, models\n",
        "import matplotlib.pyplot as plt"
      ],
      "metadata": {
        "id": "5FujXhmXsbHE"
      },
      "execution_count": 43,
      "outputs": []
    },
    {
      "cell_type": "code",
      "source": [
        "train_dataset = tf.data.Dataset.from_tensor_slices((Xtrain_tf, Y_train))\n",
        "test_dataset = tf.data.Dataset.from_tensor_slices((Xtest_tf, Y_test))\n",
        "val_dataset = tf.data.Dataset.from_tensor_slices((Xval_tf, Y_val))"
      ],
      "metadata": {
        "id": "0Z9M0K2Oq1nf"
      },
      "execution_count": 44,
      "outputs": []
    },
    {
      "cell_type": "code",
      "source": [
        "BATCH_SIZE = 64\n",
        "SHUFFLE_BUFFER_SIZE = 100\n",
        "\n",
        "train_dataset = train_dataset.shuffle(SHUFFLE_BUFFER_SIZE).batch(BATCH_SIZE)\n",
        "test_dataset = test_dataset.batch(BATCH_SIZE)\n",
        "val_dataset = val_dataset.batch(BATCH_SIZE)"
      ],
      "metadata": {
        "id": "WAAUkiWz0_R-"
      },
      "execution_count": 45,
      "outputs": []
    },
    {
      "cell_type": "code",
      "source": [
        "train_dataset"
      ],
      "metadata": {
        "colab": {
          "base_uri": "https://localhost:8080/"
        },
        "id": "2av0jVfKwLzR",
        "outputId": "385b8531-f81e-4c82-a6ea-c49805100a08"
      },
      "execution_count": 46,
      "outputs": [
        {
          "output_type": "execute_result",
          "data": {
            "text/plain": [
              "<BatchDataset element_spec=(TensorSpec(shape=(None, 64, 64, 1), dtype=tf.float64, name=None), TensorSpec(shape=(None,), dtype=tf.float64, name=None))>"
            ]
          },
          "metadata": {},
          "execution_count": 46
        }
      ]
    },
    {
      "cell_type": "code",
      "source": [
        "model = models.Sequential()\n",
        "model.add(layers.Conv2D(32, (3, 3), activation='relu', input_shape=(64, 64, 1)))\n",
        "model.add(layers.MaxPooling2D((2, 2)))\n",
        "model.add(layers.Conv2D(64, (3, 3), activation='relu'))\n",
        "model.add(layers.MaxPooling2D((2, 2)))\n",
        "model.add(layers.Conv2D(64, (3, 3), activation='relu'))"
      ],
      "metadata": {
        "id": "SqK8Df-2ciYX"
      },
      "execution_count": 47,
      "outputs": []
    },
    {
      "cell_type": "code",
      "source": [
        "model.add(layers.Flatten())\n",
        "model.add(layers.Dense(64, activation='relu'))\n",
        "model.add(layers.Dense(2, activation='softmax'))"
      ],
      "metadata": {
        "id": "aEOXg-CsCz5G"
      },
      "execution_count": 48,
      "outputs": []
    },
    {
      "cell_type": "code",
      "source": [
        "model.summary()"
      ],
      "metadata": {
        "colab": {
          "base_uri": "https://localhost:8080/"
        },
        "id": "A1js349ns05u",
        "outputId": "e989d1a0-6119-48f3-cfa0-59a4f1c9aa36"
      },
      "execution_count": 49,
      "outputs": [
        {
          "output_type": "stream",
          "name": "stdout",
          "text": [
            "Model: \"sequential\"\n",
            "_________________________________________________________________\n",
            " Layer (type)                Output Shape              Param #   \n",
            "=================================================================\n",
            " conv2d (Conv2D)             (None, 62, 62, 32)        320       \n",
            "                                                                 \n",
            " max_pooling2d (MaxPooling2D  (None, 31, 31, 32)       0         \n",
            " )                                                               \n",
            "                                                                 \n",
            " conv2d_1 (Conv2D)           (None, 29, 29, 64)        18496     \n",
            "                                                                 \n",
            " max_pooling2d_1 (MaxPooling  (None, 14, 14, 64)       0         \n",
            " 2D)                                                             \n",
            "                                                                 \n",
            " conv2d_2 (Conv2D)           (None, 12, 12, 64)        36928     \n",
            "                                                                 \n",
            " flatten (Flatten)           (None, 9216)              0         \n",
            "                                                                 \n",
            " dense (Dense)               (None, 64)                589888    \n",
            "                                                                 \n",
            " dense_1 (Dense)             (None, 2)                 130       \n",
            "                                                                 \n",
            "=================================================================\n",
            "Total params: 645,762\n",
            "Trainable params: 645,762\n",
            "Non-trainable params: 0\n",
            "_________________________________________________________________\n"
          ]
        }
      ]
    },
    {
      "cell_type": "code",
      "source": [
        "opt = tf.keras.optimizers.Adam(3e-4)"
      ],
      "metadata": {
        "id": "ogHox_GGVvb0"
      },
      "execution_count": 50,
      "outputs": []
    },
    {
      "cell_type": "code",
      "source": [
        "model.compile(optimizer='adam',\n",
        "              loss=tf.keras.losses.SparseCategoricalCrossentropy(from_logits=True),\n",
        "              metrics=['accuracy'])\n",
        "\n",
        "model.fit(train_dataset, validation_data=val_dataset, epochs=10)"
      ],
      "metadata": {
        "colab": {
          "base_uri": "https://localhost:8080/"
        },
        "id": "L3Eg49-CCr7D",
        "outputId": "3da14dc6-f4f5-40c5-96da-9ed1d7b8fd4e"
      },
      "execution_count": 51,
      "outputs": [
        {
          "output_type": "stream",
          "name": "stdout",
          "text": [
            "Epoch 1/10\n"
          ]
        },
        {
          "output_type": "stream",
          "name": "stderr",
          "text": [
            "/usr/local/lib/python3.7/dist-packages/tensorflow/python/util/dispatch.py:1082: UserWarning: \"`sparse_categorical_crossentropy` received `from_logits=True`, but the `output` argument was produced by a sigmoid or softmax activation and thus does not represent logits. Was this intended?\"\n",
            "  return dispatch_target(*args, **kwargs)\n"
          ]
        },
        {
          "output_type": "stream",
          "name": "stdout",
          "text": [
            "154/154 [==============================] - 59s 378ms/step - loss: 0.5281 - accuracy: 0.7260 - val_loss: 0.4904 - val_accuracy: 0.7569\n",
            "Epoch 2/10\n",
            "154/154 [==============================] - 60s 388ms/step - loss: 0.4586 - accuracy: 0.7819 - val_loss: 0.4618 - val_accuracy: 0.7847\n",
            "Epoch 3/10\n",
            "154/154 [==============================] - 60s 388ms/step - loss: 0.4176 - accuracy: 0.8127 - val_loss: 0.4343 - val_accuracy: 0.8169\n",
            "Epoch 4/10\n",
            "154/154 [==============================] - 60s 393ms/step - loss: 0.3445 - accuracy: 0.8543 - val_loss: 0.3966 - val_accuracy: 0.8056\n",
            "Epoch 5/10\n",
            "154/154 [==============================] - 58s 379ms/step - loss: 0.3042 - accuracy: 0.8800 - val_loss: 0.2774 - val_accuracy: 0.8923\n",
            "Epoch 6/10\n",
            "154/154 [==============================] - 59s 380ms/step - loss: 0.2666 - accuracy: 0.8999 - val_loss: 0.3792 - val_accuracy: 0.8205\n",
            "Epoch 7/10\n",
            "154/154 [==============================] - 58s 379ms/step - loss: 0.2747 - accuracy: 0.8930 - val_loss: 0.3253 - val_accuracy: 0.8923\n",
            "Epoch 8/10\n",
            "154/154 [==============================] - 58s 377ms/step - loss: 0.2252 - accuracy: 0.9168 - val_loss: 0.3484 - val_accuracy: 0.8722\n",
            "Epoch 9/10\n",
            "154/154 [==============================] - 58s 379ms/step - loss: 0.2021 - accuracy: 0.9238 - val_loss: 0.2325 - val_accuracy: 0.9231\n",
            "Epoch 10/10\n",
            "154/154 [==============================] - 61s 393ms/step - loss: 0.1860 - accuracy: 0.9316 - val_loss: 0.2725 - val_accuracy: 0.9149\n"
          ]
        },
        {
          "output_type": "execute_result",
          "data": {
            "text/plain": [
              "<keras.callbacks.History at 0x7f648fe8cd50>"
            ]
          },
          "metadata": {},
          "execution_count": 51
        }
      ]
    },
    {
      "cell_type": "code",
      "source": [
        "model.evaluate(test_dataset)"
      ],
      "metadata": {
        "colab": {
          "base_uri": "https://localhost:8080/"
        },
        "id": "wvsKtjPKEXxq",
        "outputId": "19aa66d0-8f8c-4a77-b83e-3e4d5b404d79"
      },
      "execution_count": 52,
      "outputs": [
        {
          "output_type": "stream",
          "name": "stdout",
          "text": [
            "82/82 [==============================] - 7s 90ms/step - loss: 0.7980 - accuracy: 0.8974\n"
          ]
        },
        {
          "output_type": "execute_result",
          "data": {
            "text/plain": [
              "[0.7980276942253113, 0.8973916172981262]"
            ]
          },
          "metadata": {},
          "execution_count": 52
        }
      ]
    },
    {
      "cell_type": "code",
      "source": [
        "print(\"Generate predictions for 3 samples\")\n",
        "predictions = model.predict(Xtrain_tf[:3])\n",
        "print(\"predictions shape:\", predictions.shape)"
      ],
      "metadata": {
        "colab": {
          "base_uri": "https://localhost:8080/"
        },
        "id": "-mEsuqIMQHkW",
        "outputId": "ec97a9e1-8ace-44c5-ab1c-70847ed43894"
      },
      "execution_count": 53,
      "outputs": [
        {
          "output_type": "stream",
          "name": "stdout",
          "text": [
            "Generate predictions for 3 samples\n",
            "1/1 [==============================] - 0s 158ms/step\n",
            "predictions shape: (3, 2)\n"
          ]
        }
      ]
    },
    {
      "cell_type": "code",
      "source": [
        "predictions"
      ],
      "metadata": {
        "colab": {
          "base_uri": "https://localhost:8080/"
        },
        "id": "-FLRxCNeaj52",
        "outputId": "7bd55c10-4437-4da2-eae8-3683f84706e1"
      },
      "execution_count": 54,
      "outputs": [
        {
          "output_type": "execute_result",
          "data": {
            "text/plain": [
              "array([[7.8903720e-02, 9.2109627e-01],\n",
              "       [1.0000000e+00, 6.0421317e-20],\n",
              "       [1.0000000e+00, 6.2768997e-37]], dtype=float32)"
            ]
          },
          "metadata": {},
          "execution_count": 54
        }
      ]
    },
    {
      "cell_type": "code",
      "source": [
        "io.imshow(Xtrain_tf[2].reshape(64,64),cmap='gray')\n",
        "preds = tf.argmax(predictions[2])\n",
        "tf.print(preds)"
      ],
      "metadata": {
        "colab": {
          "base_uri": "https://localhost:8080/",
          "height": 314
        },
        "id": "HKFR2H4kT4jh",
        "outputId": "62f7175f-2146-4aa7-b7f6-c41ec0e2f209"
      },
      "execution_count": 55,
      "outputs": [
        {
          "output_type": "stream",
          "name": "stdout",
          "text": [
            "0\n"
          ]
        },
        {
          "output_type": "display_data",
          "data": {
            "text/plain": [
              "<Figure size 432x288 with 1 Axes>"
            ],
            "image/png": "[encoded data removed]"
          },
          "metadata": {
            "needs_background": "light"
          }
        }
      ]
    },
    {
      "cell_type": "code",
      "source": [
        "io.imshow(Xtrain_tf[1].reshape(64,64),cmap='gray')\n",
        "preds = tf.argmax(predictions[1])\n",
        "tf.print(preds)"
      ],
      "metadata": {
        "colab": {
          "base_uri": "https://localhost:8080/",
          "height": 314
        },
        "id": "fHJZ8tZ6UUDD",
        "outputId": "012dc6b2-a938-4ad7-8d6a-f7ddf7424899"
      },
      "execution_count": 56,
      "outputs": [
        {
          "output_type": "stream",
          "name": "stdout",
          "text": [
            "0\n"
          ]
        },
        {
          "output_type": "display_data",
          "data": {
            "text/plain": [
              "<Figure size 432x288 with 1 Axes>"
            ],
            "image/png": "[encoded data removed]"
          },
          "metadata": {
            "needs_background": "light"
          }
        }
      ]
    },
    {
      "cell_type": "code",
      "source": [
        "io.imshow(Xtrain_tf[0].reshape(64,64),cmap='gray')\n",
        "preds = tf.argmax(predictions[0])\n",
        "tf.print(preds)"
      ],
      "metadata": {
        "colab": {
          "base_uri": "https://localhost:8080/",
          "height": 369
        },
        "id": "wMKrnd6KcIUk",
        "outputId": "c890e3a1-cab9-4e6b-c0aa-b056dde8d587"
      },
      "execution_count": 57,
      "outputs": [
        {
          "output_type": "stream",
          "name": "stdout",
          "text": [
            "1\n"
          ]
        },
        {
          "output_type": "stream",
          "name": "stderr",
          "text": [
            "/usr/local/lib/python3.7/dist-packages/skimage/io/_plugins/matplotlib_plugin.py:150: UserWarning: Low image data range; displaying image with stretched contrast.\n",
            "  lo, hi, cmap = _get_display_range(image)\n"
          ]
        },
        {
          "output_type": "display_data",
          "data": {
            "text/plain": [
              "<Figure size 432x288 with 2 Axes>"
            ],
            "image/png": "[encoded data removed]"
          },
          "metadata": {
            "needs_background": "light"
          }
        }
      ]
    }
  ]
}